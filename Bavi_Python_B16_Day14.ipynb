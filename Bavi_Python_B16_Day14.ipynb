{
 "cells": [
  {
   "cell_type": "code",
   "execution_count": 39,
   "metadata": {},
   "outputs": [
    {
     "name": "stdout",
     "output_type": "stream",
     "text": [
      "Day14 of Python Learning\n"
     ]
    }
   ],
   "source": [
    "print(\"Day14 of Python Learning\")"
   ]
  },
  {
   "cell_type": "code",
   "execution_count": 40,
   "metadata": {},
   "outputs": [],
   "source": [
    "#Return values of Function"
   ]
  },
  {
   "cell_type": "code",
   "execution_count": 47,
   "metadata": {},
   "outputs": [],
   "source": [
    "def get_formatted_name(first_name,last_name):\n",
    "    \"\"\"Return a full_name which is neatly formatted\"\"\"\n",
    "    full_name = f\"{first_name} {last_name}\"\n",
    "    return full_name.title()"
   ]
  },
  {
   "cell_type": "code",
   "execution_count": 48,
   "metadata": {},
   "outputs": [
    {
     "data": {
      "text/plain": [
       "'Shwetha Bavikatti'"
      ]
     },
     "execution_count": 48,
     "metadata": {},
     "output_type": "execute_result"
    }
   ],
   "source": [
    "#If we do not assign the return value to a variable then \n",
    "#                    output will be printed in string format\n",
    "\n",
    "get_formatted_name('shwetha','bavikatti')"
   ]
  },
  {
   "cell_type": "code",
   "execution_count": 50,
   "metadata": {},
   "outputs": [
    {
     "name": "stdout",
     "output_type": "stream",
     "text": [
      "Thejasvi N\n"
     ]
    }
   ],
   "source": [
    "#If we assign the return value to a variable then ouput will be printed without quotes\n",
    "\n",
    "student = get_formatted_name('thejasvi','n')\n",
    "print(student)"
   ]
  },
  {
   "cell_type": "code",
   "execution_count": 54,
   "metadata": {},
   "outputs": [],
   "source": [
    "#Return a dictionary\n",
    "def define_person(firstName,lastName,DOB,education):\n",
    "    \"\"\"Return a dict of information about the person\"\"\"\n",
    "    person = {'firstname' : firstName,'lastname': lastName ,'DOB':DOB,'Education' : education}\n",
    "    return person"
   ]
  },
  {
   "cell_type": "code",
   "execution_count": 55,
   "metadata": {},
   "outputs": [
    {
     "name": "stdout",
     "output_type": "stream",
     "text": [
      "{'firstname': 'karthik', 'lastname': 'kumar', 'DOB': '19-01-2000', 'Education': 'Degree'}\n"
     ]
    }
   ],
   "source": [
    "student1 = define_person('karthik','kumar','19-01-2000','Degree')\n",
    "print(student1)"
   ]
  },
  {
   "cell_type": "code",
   "execution_count": 57,
   "metadata": {},
   "outputs": [
    {
     "data": {
      "text/plain": [
       "{'firstname': 'arohi',\n",
       " 'lastname': 'bannikoppa',\n",
       " 'DOB': '24-05-2017',\n",
       " 'Education': 'kindergarten'}"
      ]
     },
     "execution_count": 57,
     "metadata": {},
     "output_type": "execute_result"
    }
   ],
   "source": [
    "define_person('arohi','bannikoppa','24-05-2017','kindergarten')"
   ]
  },
  {
   "cell_type": "code",
   "execution_count": null,
   "metadata": {},
   "outputs": [],
   "source": [
    "Req 1 : Prepare a database funtion to store information of the employee \n",
    "        firstname,lastname,Date of joining,designation"
   ]
  },
  {
   "cell_type": "code",
   "execution_count": 61,
   "metadata": {},
   "outputs": [],
   "source": [
    "def define_employee(firstName,lastName,dateOfJoining,designation):\n",
    "    \"\"\"returns a dict of information about employee\"\"\"\n",
    "    employee = {'firstname':firstName.title(),'lastname':lastName.title(),'DOJ':dateOfJoining,'Designation':designation}\n",
    "    return employee"
   ]
  },
  {
   "cell_type": "code",
   "execution_count": 62,
   "metadata": {},
   "outputs": [
    {
     "data": {
      "text/plain": [
       "{'firstname': 'Shobhit',\n",
       " 'lastname': 'Jain',\n",
       " 'DOJ': '12-06-2018',\n",
       " 'Designation': 'Technical analyst'}"
      ]
     },
     "execution_count": 62,
     "metadata": {},
     "output_type": "execute_result"
    }
   ],
   "source": [
    "define_employee('shobhit','jain','12-06-2018','Technical analyst')"
   ]
  },
  {
   "cell_type": "code",
   "execution_count": null,
   "metadata": {},
   "outputs": [],
   "source": []
  },
  {
   "cell_type": "code",
   "execution_count": null,
   "metadata": {},
   "outputs": [],
   "source": []
  },
  {
   "cell_type": "code",
   "execution_count": 63,
   "metadata": {},
   "outputs": [],
   "source": [
    "#Passing a list to a function :\n",
    "#Congratulate each and every student\n",
    "\n",
    "def students_list(studentsList):\n",
    "    for i in studentsList:\n",
    "        msg = f\"Congratualtions!!! Keep up teh good work , {i.title()}\"\n",
    "        print(msg)\n",
    "    "
   ]
  },
  {
   "cell_type": "code",
   "execution_count": 68,
   "metadata": {},
   "outputs": [
    {
     "name": "stdout",
     "output_type": "stream",
     "text": [
      "Congratualtions!!! Keep up teh good work , Kavitha\n",
      "Congratualtions!!! Keep up teh good work , Ram\n",
      "Congratualtions!!! Keep up teh good work , Arohi\n",
      "Congratualtions!!! Keep up teh good work , Satya\n",
      "Congratualtions!!! Keep up teh good work , Melon\n",
      "Congratualtions!!! Keep up teh good work , June\n",
      "Congratualtions!!! Keep up teh good work , Happy\n",
      "Congratualtions!!! Keep up teh good work , Green\n"
     ]
    }
   ],
   "source": [
    "students = ['kavitha','ram','arohi','satya','melon','june','happy','green']\n",
    "students_list(students)"
   ]
  },
  {
   "cell_type": "code",
   "execution_count": null,
   "metadata": {},
   "outputs": [],
   "source": []
  }
 ],
 "metadata": {
  "kernelspec": {
   "display_name": "Python 3",
   "language": "python",
   "name": "python3"
  },
  "language_info": {
   "codemirror_mode": {
    "name": "ipython",
    "version": 3
   },
   "file_extension": ".py",
   "mimetype": "text/x-python",
   "name": "python",
   "nbconvert_exporter": "python",
   "pygments_lexer": "ipython3",
   "version": "3.7.6"
  }
 },
 "nbformat": 4,
 "nbformat_minor": 4
}
