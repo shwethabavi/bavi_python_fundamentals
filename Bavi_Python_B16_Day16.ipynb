{
 "cells": [
  {
   "cell_type": "code",
   "execution_count": 1,
   "metadata": {},
   "outputs": [
    {
     "name": "stdout",
     "output_type": "stream",
     "text": [
      "Day16 of python Learning\n"
     ]
    }
   ],
   "source": [
    "print(\"Day16 of python Learning\")"
   ]
  },
  {
   "cell_type": "code",
   "execution_count": null,
   "metadata": {},
   "outputs": [],
   "source": [
    "Introduction to Constructor method/Special method/magical method"
   ]
  },
  {
   "cell_type": "code",
   "execution_count": null,
   "metadata": {},
   "outputs": [],
   "source": [
    "Req : \n",
    "    1.Define a Dog class and assign methods to it\n",
    "    name,age of the dog ---> input\n",
    "    Actions ---> sit & roll over"
   ]
  },
  {
   "cell_type": "code",
   "execution_count": 8,
   "metadata": {},
   "outputs": [],
   "source": [
    "class Dog:\n",
    "    \"\"\"Simple attempt to model the Dog\"\"\"\n",
    "    def __init__(self,name,age):\n",
    "        self.age = age\n",
    "        self.name = name\n",
    "        print(\"It got executed\")\n",
    "    def sit(self):\n",
    "        print(f\"{self.name.title()} is now sitting\")\n",
    "    def roll_over(self):\n",
    "        print(f\"{self.name.title()} is now rolling over\")"
   ]
  },
  {
   "cell_type": "code",
   "execution_count": 9,
   "metadata": {},
   "outputs": [
    {
     "name": "stdout",
     "output_type": "stream",
     "text": [
      "It got executed\n"
     ]
    }
   ],
   "source": [
    "dogobj = Dog('rocky',2)"
   ]
  },
  {
   "cell_type": "code",
   "execution_count": 10,
   "metadata": {},
   "outputs": [
    {
     "name": "stdout",
     "output_type": "stream",
     "text": [
      "Rocky is now sitting\n"
     ]
    }
   ],
   "source": [
    "dogobj.sit()"
   ]
  },
  {
   "cell_type": "code",
   "execution_count": 11,
   "metadata": {},
   "outputs": [
    {
     "name": "stdout",
     "output_type": "stream",
     "text": [
      "Rocky is now rolling over\n"
     ]
    }
   ],
   "source": [
    "dogobj.roll_over()"
   ]
  },
  {
   "cell_type": "code",
   "execution_count": null,
   "metadata": {},
   "outputs": [],
   "source": []
  },
  {
   "cell_type": "code",
   "execution_count": null,
   "metadata": {},
   "outputs": [],
   "source": []
  }
 ],
 "metadata": {
  "kernelspec": {
   "display_name": "Python 3",
   "language": "python",
   "name": "python3"
  },
  "language_info": {
   "codemirror_mode": {
    "name": "ipython",
    "version": 3
   },
   "file_extension": ".py",
   "mimetype": "text/x-python",
   "name": "python",
   "nbconvert_exporter": "python",
   "pygments_lexer": "ipython3",
   "version": "3.7.6"
  }
 },
 "nbformat": 4,
 "nbformat_minor": 4
}
