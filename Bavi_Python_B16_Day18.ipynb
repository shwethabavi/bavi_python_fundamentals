{
 "cells": [
  {
   "cell_type": "code",
   "execution_count": 37,
   "metadata": {},
   "outputs": [
    {
     "name": "stdout",
     "output_type": "stream",
     "text": [
      "Day18 of python Learning\n"
     ]
    }
   ],
   "source": [
    "print(\"Day18 of python Learning\")"
   ]
  },
  {
   "cell_type": "code",
   "execution_count": null,
   "metadata": {},
   "outputs": [],
   "source": [
    "Introduction to file and exceptionalhandling"
   ]
  },
  {
   "cell_type": "code",
   "execution_count": null,
   "metadata": {},
   "outputs": [],
   "source": [
    "File handling in Python:\n",
    "    1. Reading data from the file : 'r'\n",
    "    2. Writing data to a file : 'w'\n",
    "    3. Appending data to a file : 'a'"
   ]
  },
  {
   "cell_type": "code",
   "execution_count": 43,
   "metadata": {},
   "outputs": [
    {
     "name": "stdout",
     "output_type": "stream",
     "text": [
      "Hi,\n",
      "Welcome to Python World!!!\n",
      "Happy Learning !!!\n",
      "Keep learning !!!\n",
      "Apply the things learnt !!!\n",
      "\n"
     ]
    }
   ],
   "source": [
    "#1.Reading a file \n",
    "\n",
    "with open('Downloads/My_PythonScripts/MyFile.txt') as file_object:\n",
    "    contents = file_object.read()\n",
    "print(contents)"
   ]
  },
  {
   "cell_type": "code",
   "execution_count": null,
   "metadata": {},
   "outputs": [],
   "source": [
    "Req : Reading a file line by line"
   ]
  },
  {
   "cell_type": "code",
   "execution_count": 44,
   "metadata": {},
   "outputs": [
    {
     "name": "stdout",
     "output_type": "stream",
     "text": [
      "Hi,\n",
      "\n",
      "Welcome to Python World!!!\n",
      "\n",
      "Happy Learning !!!\n",
      "\n",
      "Keep learning !!!\n",
      "\n",
      "Apply the things learnt !!!\n",
      "\n"
     ]
    }
   ],
   "source": [
    "with open('Downloads/My_PythonScripts/MyFile.txt') as file_object:\n",
    "    for line in file_object:\n",
    "        print(line)"
   ]
  },
  {
   "cell_type": "code",
   "execution_count": 47,
   "metadata": {},
   "outputs": [
    {
     "name": "stdout",
     "output_type": "stream",
     "text": [
      "\n"
     ]
    }
   ],
   "source": [
    "#2.Write data to a file\n",
    "\n",
    "#Reading a blankFile content\n",
    "\n",
    "filename = 'Downloads/My_PythonScripts/BlankFile.txt'\n",
    "\n",
    "with open(filename , 'r') as file_object:\n",
    "    contents = file_object.read()\n",
    "\n",
    "print(contents)"
   ]
  },
  {
   "cell_type": "code",
   "execution_count": 48,
   "metadata": {},
   "outputs": [],
   "source": [
    "#Writing to a blankfile \n",
    "\n",
    "with open(filename, 'w') as file_object:\n",
    "    file_object.write(\"People call me Python, Happy to be with you!!!\")"
   ]
  },
  {
   "cell_type": "code",
   "execution_count": 51,
   "metadata": {},
   "outputs": [
    {
     "name": "stdout",
     "output_type": "stream",
     "text": [
      "People call me Python, Happy to be with you!!!\n"
     ]
    }
   ],
   "source": [
    "#Reading the blankfile again\n",
    "\n",
    "with open(filename, 'r') as file_object:\n",
    "    contents = file_object.read()\n",
    "\n",
    "print(contents)"
   ]
  },
  {
   "cell_type": "code",
   "execution_count": 52,
   "metadata": {},
   "outputs": [],
   "source": [
    "#3. Append the data to a existing file\n",
    "\n",
    "with open(filename , 'a') as file_object:\n",
    "    file_object.write('Happy learning!!!')"
   ]
  },
  {
   "cell_type": "code",
   "execution_count": 56,
   "metadata": {},
   "outputs": [
    {
     "name": "stdout",
     "output_type": "stream",
     "text": [
      "People call me Python, Happy to be with you!!!Happy learning!!!\n",
      "Output looks messed up\n"
     ]
    }
   ],
   "source": [
    "#Reading the blankfile again\n",
    "\n",
    "with open(filename) as file_object:\n",
    "    contents = file_object.read()\n",
    "\n",
    "print(contents)"
   ]
  },
  {
   "cell_type": "code",
   "execution_count": 61,
   "metadata": {},
   "outputs": [],
   "source": [
    "#Reading the blankfile again and appedning the content in the more user understanble format\n",
    "\n",
    "filename = 'Downloads/My_PythonScripts/BlankFile.txt'\n",
    "\n",
    "with open(filename , 'w') as file_object:\n",
    "    file_object.write(\"Appreciate all your interest in learning Python\")"
   ]
  },
  {
   "cell_type": "code",
   "execution_count": 62,
   "metadata": {},
   "outputs": [
    {
     "name": "stdout",
     "output_type": "stream",
     "text": [
      "Appreciate all your interest in learning Python\n"
     ]
    }
   ],
   "source": [
    "#Reading the content again\n",
    "\n",
    "with open(filename , 'r') as file_object:\n",
    "    contents = file_object.read()\n",
    "\n",
    "print(contents)"
   ]
  },
  {
   "cell_type": "code",
   "execution_count": 65,
   "metadata": {},
   "outputs": [],
   "source": [
    "#Appenidng the data to a file\n",
    "\n",
    "\n",
    "with open(filename , 'a') as file_object:\n",
    "    file_object.write(\"\\n Happy Learning !!!\")"
   ]
  },
  {
   "cell_type": "code",
   "execution_count": 66,
   "metadata": {},
   "outputs": [
    {
     "name": "stdout",
     "output_type": "stream",
     "text": [
      "Appreciate all your interest in learning Python\n",
      " Happy Learning !!!\n",
      " Happy Learning !!!\n"
     ]
    }
   ],
   "source": [
    "#Reading the content of the file again after appenidng data\n",
    "with open(filename , 'r') as file_object:\n",
    "    contents = file_object.read()\n",
    "\n",
    "print(contents)"
   ]
  },
  {
   "cell_type": "code",
   "execution_count": null,
   "metadata": {},
   "outputs": [],
   "source": []
  },
  {
   "cell_type": "code",
   "execution_count": null,
   "metadata": {},
   "outputs": [],
   "source": []
  },
  {
   "cell_type": "code",
   "execution_count": null,
   "metadata": {},
   "outputs": [],
   "source": [
    "Exceptional handlings in Python :\n",
    "    Like -----> ZeroDivisionError\n",
    "         -----> FileNotFoundError"
   ]
  },
  {
   "cell_type": "code",
   "execution_count": null,
   "metadata": {},
   "outputs": [],
   "source": [
    "#To handle exceptions in the code we should use try-except blocks\n",
    "try-except block is optimal way of coding\n",
    "                  It protects the code from being exposed to end user when exception occurs"
   ]
  },
  {
   "cell_type": "code",
   "execution_count": 71,
   "metadata": {},
   "outputs": [
    {
     "ename": "ZeroDivisionError",
     "evalue": "division by zero",
     "output_type": "error",
     "traceback": [
      "\u001b[1;31m---------------------------------------------------------------------------\u001b[0m",
      "\u001b[1;31mZeroDivisionError\u001b[0m                         Traceback (most recent call last)",
      "\u001b[1;32m<ipython-input-71-cd47d57074bf>\u001b[0m in \u001b[0;36m<module>\u001b[1;34m\u001b[0m\n\u001b[0;32m      3\u001b[0m \u001b[0mx\u001b[0m\u001b[1;33m=\u001b[0m\u001b[1;36m5\u001b[0m\u001b[1;33m\u001b[0m\u001b[1;33m\u001b[0m\u001b[0m\n\u001b[0;32m      4\u001b[0m \u001b[0my\u001b[0m\u001b[1;33m=\u001b[0m\u001b[1;36m0\u001b[0m\u001b[1;33m\u001b[0m\u001b[1;33m\u001b[0m\u001b[0m\n\u001b[1;32m----> 5\u001b[1;33m \u001b[0mz\u001b[0m\u001b[1;33m=\u001b[0m\u001b[0mx\u001b[0m\u001b[1;33m/\u001b[0m\u001b[0my\u001b[0m\u001b[1;33m\u001b[0m\u001b[1;33m\u001b[0m\u001b[0m\n\u001b[0m\u001b[0;32m      6\u001b[0m \u001b[0mprint\u001b[0m\u001b[1;33m(\u001b[0m\u001b[0mz\u001b[0m\u001b[1;33m)\u001b[0m\u001b[1;33m\u001b[0m\u001b[1;33m\u001b[0m\u001b[0m\n",
      "\u001b[1;31mZeroDivisionError\u001b[0m: division by zero"
     ]
    }
   ],
   "source": [
    "#Bad way of coding\n",
    "\n",
    "x=5\n",
    "y=0\n",
    "z=x/y\n",
    "print(z)   # ---> source code is being exposed to EndUser"
   ]
  },
  {
   "cell_type": "code",
   "execution_count": 70,
   "metadata": {},
   "outputs": [
    {
     "name": "stdout",
     "output_type": "stream",
     "text": [
      "Please do not try to divide the number by ZERO\n"
     ]
    }
   ],
   "source": [
    "#1. ZeroDivisionError Exception handling\n",
    "\n",
    "try :\n",
    "    x = 5\n",
    "    y = 0\n",
    "    z = x/y\n",
    "    print(z)\n",
    "except ZeroDivisionError:\n",
    "    print(\"Please do not try to divide the number by ZERO\")"
   ]
  },
  {
   "cell_type": "code",
   "execution_count": 76,
   "metadata": {},
   "outputs": [
    {
     "name": "stdout",
     "output_type": "stream",
     "text": [
      "Nofile.txt file is not found under specified path\n"
     ]
    }
   ],
   "source": [
    "#2. FileNotFoundError Exception handling\n",
    "\n",
    "try :\n",
    "    filename = 'Nofile.txt'\n",
    "    with open(filename) as file_object:\n",
    "        contents = file_object.read()\n",
    "except FileNotFoundError:\n",
    "    print(f\"{filename} file is not found under specified path\")"
   ]
  },
  {
   "cell_type": "code",
   "execution_count": null,
   "metadata": {},
   "outputs": [],
   "source": []
  }
 ],
 "metadata": {
  "kernelspec": {
   "display_name": "Python 3",
   "language": "python",
   "name": "python3"
  },
  "language_info": {
   "codemirror_mode": {
    "name": "ipython",
    "version": 3
   },
   "file_extension": ".py",
   "mimetype": "text/x-python",
   "name": "python",
   "nbconvert_exporter": "python",
   "pygments_lexer": "ipython3",
   "version": "3.7.6"
  }
 },
 "nbformat": 4,
 "nbformat_minor": 4
}
