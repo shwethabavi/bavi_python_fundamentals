{
 "cells": [
  {
   "cell_type": "code",
   "execution_count": 16,
   "metadata": {},
   "outputs": [
    {
     "name": "stdout",
     "output_type": "stream",
     "text": [
      "Day13 of Python programming learning\n"
     ]
    }
   ],
   "source": [
    "print(\"Day13 of Python programming learning\")"
   ]
  },
  {
   "cell_type": "code",
   "execution_count": null,
   "metadata": {},
   "outputs": [],
   "source": [
    "#Types of Arguments"
   ]
  },
  {
   "cell_type": "code",
   "execution_count": 20,
   "metadata": {},
   "outputs": [],
   "source": [
    "def describe_pet(animalType,animalName):\n",
    "    \"\"\"To display the animal type and animal name\"\"\"\n",
    "    print(f\"I have a {animalType}\")\n",
    "    print(f\"\\nMy {animalType} name is {animalName.title()}\")\n",
    "    "
   ]
  },
  {
   "cell_type": "code",
   "execution_count": 21,
   "metadata": {},
   "outputs": [
    {
     "name": "stdout",
     "output_type": "stream",
     "text": [
      "I have a dog\n",
      "\n",
      "My dog name is Rocky\n"
     ]
    }
   ],
   "source": [
    "#Function calling\n",
    "describe_pet('dog','rocky')"
   ]
  },
  {
   "cell_type": "code",
   "execution_count": 27,
   "metadata": {},
   "outputs": [
    {
     "name": "stdout",
     "output_type": "stream",
     "text": [
      "I have a cat\n",
      "\n",
      "My cat name is Bruce\n"
     ]
    }
   ],
   "source": [
    "#1. Positional Arguments :\n",
    "#    In this case we should pass the arguments in the same order as parameters.\n",
    "#       No default values are considered.\n",
    "#       Number of arguments passed should be equal to number of parameters\n",
    " \n",
    "describe_pet('cat','bruce')\n",
    "    \n"
   ]
  },
  {
   "cell_type": "code",
   "execution_count": 29,
   "metadata": {},
   "outputs": [
    {
     "name": "stdout",
     "output_type": "stream",
     "text": [
      "I have a cat\n",
      "\n",
      "My cat name is Katty\n"
     ]
    }
   ],
   "source": [
    "#2. Keyword Arguments :\n",
    "#      In this type of argument passing we should pass the arguments along with keyword/parameter name\n",
    "#      No default values are considered\n",
    "#      Number of arguments passed should be equal to number of parameters\n",
    "\n",
    "describe_pet(animalName= 'katty',animalType = 'cat')\n"
   ]
  },
  {
   "cell_type": "code",
   "execution_count": 37,
   "metadata": {},
   "outputs": [
    {
     "ename": "TypeError",
     "evalue": "describe_pet() missing 1 required positional argument: 'animalName'",
     "output_type": "error",
     "traceback": [
      "\u001b[1;31m---------------------------------------------------------------------------\u001b[0m",
      "\u001b[1;31mTypeError\u001b[0m                                 Traceback (most recent call last)",
      "\u001b[1;32m<ipython-input-37-22eeea363449>\u001b[0m in \u001b[0;36m<module>\u001b[1;34m\u001b[0m\n\u001b[1;32m----> 1\u001b[1;33m \u001b[0mdescribe_pet\u001b[0m\u001b[1;33m(\u001b[0m\u001b[1;34m'max'\u001b[0m\u001b[1;33m)\u001b[0m\u001b[1;33m\u001b[0m\u001b[1;33m\u001b[0m\u001b[0m\n\u001b[0m",
      "\u001b[1;31mTypeError\u001b[0m: describe_pet() missing 1 required positional argument: 'animalName'"
     ]
    }
   ],
   "source": [
    "describe_pet('max')  ------------> If we dont pass both the arguments "
   ]
  },
  {
   "cell_type": "code",
   "execution_count": 35,
   "metadata": {},
   "outputs": [],
   "source": [
    "#3.Default Arguments :\n",
    "#     In this type of arguments passing we can pass only non-default arguments or both default\n",
    "#and non-default arguments\n",
    "#     We can have default values\n",
    "#     Optional to pass the argument for parameter with default values defined\n",
    "#     parameters with default value should be kept at the end of the parameter list\n",
    "\n",
    "def describe_petd(animalname,animaltype='parrot'):\n",
    "    print(f\"I have {animaltype}\")\n",
    "    print(f\"My {animaltype} name is {animalname}\")"
   ]
  },
  {
   "cell_type": "code",
   "execution_count": 36,
   "metadata": {},
   "outputs": [
    {
     "name": "stdout",
     "output_type": "stream",
     "text": [
      "I have parrot\n",
      "My parrot name is tony\n"
     ]
    }
   ],
   "source": [
    "describe_petd('tony')"
   ]
  },
  {
   "cell_type": "code",
   "execution_count": 38,
   "metadata": {},
   "outputs": [
    {
     "name": "stdout",
     "output_type": "stream",
     "text": [
      "I have sparrow\n",
      "My sparrow name is chirpi\n"
     ]
    }
   ],
   "source": [
    "describe_petd(animaltype='sparrow',animalname='chirpi')"
   ]
  },
  {
   "cell_type": "code",
   "execution_count": null,
   "metadata": {},
   "outputs": [],
   "source": []
  }
 ],
 "metadata": {
  "kernelspec": {
   "display_name": "Python 3",
   "language": "python",
   "name": "python3"
  },
  "language_info": {
   "codemirror_mode": {
    "name": "ipython",
    "version": 3
   },
   "file_extension": ".py",
   "mimetype": "text/x-python",
   "name": "python",
   "nbconvert_exporter": "python",
   "pygments_lexer": "ipython3",
   "version": "3.7.6"
  }
 },
 "nbformat": 4,
 "nbformat_minor": 4
}
