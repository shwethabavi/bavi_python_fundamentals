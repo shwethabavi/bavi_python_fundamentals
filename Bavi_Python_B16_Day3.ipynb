{
 "cells": [
  {
   "cell_type": "code",
   "execution_count": 33,
   "metadata": {},
   "outputs": [
    {
     "name": "stdout",
     "output_type": "stream",
     "text": [
      "Day3 of learning Python Programming\n"
     ]
    }
   ],
   "source": [
    "print(\"Day3 of learning Python Programming\")"
   ]
  },
  {
   "cell_type": "code",
   "execution_count": 32,
   "metadata": {},
   "outputs": [
    {
     "name": "stdout",
     "output_type": "stream",
     "text": [
      "shwetha baviKatti\n"
     ]
    }
   ],
   "source": [
    "#Introduction to f strings\n",
    "'''\n",
    "f strings are useful for building statement/code using references\n",
    "General Syntax for f strings :\n",
    "f\"{variable1} {variable2} {variable3}\" \n",
    "Here , {} ---> curly braces are considered as placeholder\n",
    "'''\n",
    "f_name = 'shwetha'\n",
    "l_name = 'baviKatti'\n",
    "full_name = f\"{f_name} {l_name}\"\n",
    "print(full_name)"
   ]
  },
  {
   "cell_type": "code",
   "execution_count": 31,
   "metadata": {},
   "outputs": [
    {
     "name": "stdout",
     "output_type": "stream",
     "text": [
      "Dear shwetha baviKatti , we are happy to introduce our new product ABC to you.\n"
     ]
    }
   ],
   "source": [
    "#f string usage in real time scenario\n",
    "#Introducing the new product launch to all customer\n",
    "\n",
    "message = f\"Dear {f_name} {l_name} , we are happy to introduce our new product ABC to you.\"\n",
    "print(message)"
   ]
  },
  {
   "cell_type": "code",
   "execution_count": 30,
   "metadata": {},
   "outputs": [
    {
     "name": "stdout",
     "output_type": "stream",
     "text": [
      "Dear Shwetha Bavikatti , We Are Happy To Introduce Our New Product Abc To You.\n"
     ]
    }
   ],
   "source": [
    "#Code enhancement to adopt the standard naming convention\n",
    "print(message.title())"
   ]
  },
  {
   "cell_type": "code",
   "execution_count": 29,
   "metadata": {},
   "outputs": [
    {
     "name": "stdout",
     "output_type": "stream",
     "text": [
      "Lamborghini Audi Mercedes TATA Toyota\n",
      "After new line delimiter injection \n",
      "Lamborghini \n",
      "Audi \n",
      "Mercedes \n",
      "TATA \n",
      "Toyota\n"
     ]
    }
   ],
   "source": [
    "#Adding white spaces in the strings\n",
    "'''\n",
    "White space delimeter are used while formating the output string \n",
    "for enhanced readability of the output.\n",
    "'''\n",
    "#Original String\n",
    "print('Lamborghini','Audi','Mercedes','TATA','Toyota')\n",
    "#\\n new line delimiter\n",
    "print('After new line delimiter injection','\\nLamborghini','\\nAudi','\\nMercedes','\\nTATA','\\nToyota')"
   ]
  },
  {
   "cell_type": "code",
   "execution_count": 28,
   "metadata": {},
   "outputs": [
    {
     "name": "stdout",
     "output_type": "stream",
     "text": [
      "After tab delimiter injection\n",
      " \tLamborghini \tAudi \tMercedes \tTATA \tToyota\n"
     ]
    }
   ],
   "source": [
    "#\\t --> tab delimiter\n",
    "print('After tab delimiter injection\\n','\\tLamborghini','\\tAudi','\\tMercedes','\\tTATA','\\tToyota')"
   ]
  },
  {
   "cell_type": "code",
   "execution_count": 27,
   "metadata": {},
   "outputs": [
    {
     "name": "stdout",
     "output_type": "stream",
     "text": [
      "My Fav car brands: \t\n",
      "Lamborghini \t\n",
      "Audi \t\n",
      "Mercedes \t\n",
      "TATA \t\n",
      "Toyota\n"
     ]
    }
   ],
   "source": [
    "#\\t\\n ---> injection\n",
    "print('My Fav car brands:','\\t\\nLamborghini','\\t\\nAudi','\\t\\nMercedes','\\t\\nTATA','\\t\\nToyota')"
   ]
  },
  {
   "cell_type": "code",
   "execution_count": 26,
   "metadata": {},
   "outputs": [
    {
     "name": "stdout",
     "output_type": "stream",
     "text": [
      "My Fav car brands: \n",
      "\tLamborghini \n",
      "\tAudi \n",
      "\tMercedes \n",
      "\tTATA \n",
      "\tToyota\n"
     ]
    }
   ],
   "source": [
    "#\\n\\t ---> injection\n",
    "print('My Fav car brands:','\\n\\tLamborghini','\\n\\tAudi','\\n\\tMercedes','\\n\\tTATA','\\n\\tToyota')"
   ]
  },
  {
   "cell_type": "code",
   "execution_count": null,
   "metadata": {},
   "outputs": [],
   "source": []
  },
  {
   "cell_type": "code",
   "execution_count": null,
   "metadata": {},
   "outputs": [],
   "source": []
  }
 ],
 "metadata": {
  "kernelspec": {
   "display_name": "Python 3",
   "language": "python",
   "name": "python3"
  },
  "language_info": {
   "codemirror_mode": {
    "name": "ipython",
    "version": 3
   },
   "file_extension": ".py",
   "mimetype": "text/x-python",
   "name": "python",
   "nbconvert_exporter": "python",
   "pygments_lexer": "ipython3",
   "version": "3.7.6"
  }
 },
 "nbformat": 4,
 "nbformat_minor": 4
}
