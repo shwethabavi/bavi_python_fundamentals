{
 "cells": [
  {
   "cell_type": "code",
   "execution_count": 2,
   "metadata": {},
   "outputs": [
    {
     "name": "stdout",
     "output_type": "stream",
     "text": [
      "Day6 of Learning Python Programming\n"
     ]
    }
   ],
   "source": [
    "print(\"Day6 of Learning Python Programming\")"
   ]
  },
  {
   "cell_type": "code",
   "execution_count": null,
   "metadata": {},
   "outputs": [],
   "source": [
    "Introduction to looping statements"
   ]
  },
  {
   "cell_type": "code",
   "execution_count": null,
   "metadata": {},
   "outputs": [],
   "source": [
    "#Understanding of for loop\n",
    "'''\n",
    "General syntax :\n",
    "for tempvar in mainvar:\n",
    "    statement_to_be_executed_inside_loop ------> Indentation is one tab\n",
    "'''"
   ]
  },
  {
   "cell_type": "code",
   "execution_count": 3,
   "metadata": {},
   "outputs": [
    {
     "name": "stdout",
     "output_type": "stream",
     "text": [
      "['thejasvi', 'vamsi', 'shobhit', 'arohi', 'jayashree']\n"
     ]
    }
   ],
   "source": [
    "students = ['thejasvi','vamsi','shobhit','arohi','jayashree']\n",
    "print(students)"
   ]
  },
  {
   "cell_type": "code",
   "execution_count": 4,
   "metadata": {},
   "outputs": [
    {
     "name": "stdout",
     "output_type": "stream",
     "text": [
      "thejasvi\n",
      "vamsi\n",
      "shobhit\n",
      "arohi\n",
      "jayashree\n"
     ]
    }
   ],
   "source": [
    "#Req 1 : To split out the students individually from the list\n",
    "for student in students:\n",
    "    print(student)"
   ]
  },
  {
   "cell_type": "code",
   "execution_count": 7,
   "metadata": {},
   "outputs": [
    {
     "name": "stdout",
     "output_type": "stream",
     "text": [
      "Appreciate your work, keep up the good work Thejasvi\n",
      "Appreciate your work, keep up the good work Vamsi\n",
      "Appreciate your work, keep up the good work Shobhit\n",
      "Appreciate your work, keep up the good work Arohi\n",
      "Appreciate your work, keep up the good work Jayashree\n"
     ]
    }
   ],
   "source": [
    "#Req 2 : Sending appreciation message to each and every student\n",
    "for student in students:\n",
    "    print(f\"Appreciate your work, keep up the good work {student.title()}\")"
   ]
  },
  {
   "cell_type": "code",
   "execution_count": 10,
   "metadata": {},
   "outputs": [
    {
     "name": "stdout",
     "output_type": "stream",
     "text": [
      "Appreciate your work, keep up the good work Thejasvi\n",
      "Looking for all your pratice files today as well Thejasvi\n",
      "\n",
      "Appreciate your work, keep up the good work Vamsi\n",
      "Looking for all your pratice files today as well Vamsi\n",
      "\n",
      "Appreciate your work, keep up the good work Shobhit\n",
      "Looking for all your pratice files today as well Shobhit\n",
      "\n",
      "Appreciate your work, keep up the good work Arohi\n",
      "Looking for all your pratice files today as well Arohi\n",
      "\n",
      "Appreciate your work, keep up the good work Jayashree\n",
      "Looking for all your pratice files today as well Jayashree\n",
      "\n",
      "Thank you\n"
     ]
    }
   ],
   "source": [
    "#multiple statements inside the for loop block\n",
    "for xyz in students:\n",
    "    print(f\"Appreciate your work, keep up the good work {xyz.title()}\")\n",
    "    print(f\"Looking for all your pratice files today as well {xyz.title()}\\n\")\n",
    "print(\"Thank you\")"
   ]
  },
  {
   "cell_type": "code",
   "execution_count": null,
   "metadata": {},
   "outputs": [],
   "source": [
    "#Understanding of range operator\n",
    "'''\n",
    "General sysntax :\n",
    "       range(start_value,stop_value,step/increment)\n",
    "\n",
    "stop_value in range is always exclusive\n",
    "'''"
   ]
  },
  {
   "cell_type": "code",
   "execution_count": 12,
   "metadata": {},
   "outputs": [
    {
     "name": "stdout",
     "output_type": "stream",
     "text": [
      "1\n",
      "2\n",
      "3\n",
      "4\n",
      "5\n",
      "6\n",
      "7\n",
      "8\n",
      "9\n",
      "10\n"
     ]
    }
   ],
   "source": [
    "#Making a numerical list with for loop\n",
    "for i in range(1,11):\n",
    "    print(i)"
   ]
  },
  {
   "cell_type": "code",
   "execution_count": 14,
   "metadata": {},
   "outputs": [
    {
     "name": "stdout",
     "output_type": "stream",
     "text": [
      "1\n",
      "4\n",
      "7\n",
      "10\n"
     ]
    }
   ],
   "source": [
    "for i in range(1,11,3):\n",
    "    print(i)"
   ]
  },
  {
   "cell_type": "code",
   "execution_count": 16,
   "metadata": {},
   "outputs": [
    {
     "name": "stdout",
     "output_type": "stream",
     "text": [
      "[1, 2, 3, 4, 5, 6, 7, 8, 9, 10, 11, 12, 13, 14, 15, 16, 17, 18, 19]\n"
     ]
    }
   ],
   "source": [
    "#Get a numerical list using range operator\n",
    "num_list = list(range(1,20))\n",
    "print(num_list)"
   ]
  },
  {
   "cell_type": "code",
   "execution_count": 18,
   "metadata": {},
   "outputs": [
    {
     "name": "stdout",
     "output_type": "stream",
     "text": [
      "[2, 4, 6, 8, 10, 12, 14, 16, 18, 20, 22, 24, 26, 28, 30, 32, 34, 36, 38, 40, 42, 44, 46]\n"
     ]
    }
   ],
   "source": [
    "#Getting even number list\n",
    "even_list = list(range(2,48,2))\n",
    "print(even_list)"
   ]
  },
  {
   "cell_type": "code",
   "execution_count": null,
   "metadata": {},
   "outputs": [],
   "source": []
  }
 ],
 "metadata": {
  "kernelspec": {
   "display_name": "Python 3",
   "language": "python",
   "name": "python3"
  },
  "language_info": {
   "codemirror_mode": {
    "name": "ipython",
    "version": 3
   },
   "file_extension": ".py",
   "mimetype": "text/x-python",
   "name": "python",
   "nbconvert_exporter": "python",
   "pygments_lexer": "ipython3",
   "version": "3.7.6"
  }
 },
 "nbformat": 4,
 "nbformat_minor": 4
}
