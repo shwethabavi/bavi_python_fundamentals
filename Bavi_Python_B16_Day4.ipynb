{
 "cells": [
  {
   "cell_type": "code",
   "execution_count": 35,
   "metadata": {},
   "outputs": [
    {
     "name": "stdout",
     "output_type": "stream",
     "text": [
      "Day4 of learning Python Programming\n"
     ]
    }
   ],
   "source": [
    "print(\"Day4 of learning Python Programming\")"
   ]
  },
  {
   "cell_type": "code",
   "execution_count": 44,
   "metadata": {},
   "outputs": [
    {
     "name": "stdout",
     "output_type": "stream",
     "text": [
      "['thejasvi', 'shwetha', 'arohi', 'advaith', 'jayashree', 'anusha']\n"
     ]
    }
   ],
   "source": [
    "#Introduction to list data types\n",
    "'''\n",
    "General syntax of ist data types\n",
    "list = ['value1','value2']\n",
    "'''\n",
    "\n",
    "students = ['thejasvi','shwetha','arohi','advaith','jayashree','anusha']\n",
    "print(students)"
   ]
  },
  {
   "cell_type": "code",
   "execution_count": 45,
   "metadata": {},
   "outputs": [
    {
     "name": "stdout",
     "output_type": "stream",
     "text": [
      "['thejasvi', 'shwetha', 'manjunath', 'advaith', 'jayashree', 'anusha']\n"
     ]
    }
   ],
   "source": [
    "#Introduction to indexing\n",
    "#Reassigning the ellements of the list...using the index\n",
    "students[2] = 'manjunath'\n",
    "print(students)\n"
   ]
  },
  {
   "cell_type": "code",
   "execution_count": 46,
   "metadata": {},
   "outputs": [
    {
     "name": "stdout",
     "output_type": "stream",
     "text": [
      "['thejasvi', 'shwetha', 'manjunath', 'advaith', 'jayashree', 'anusha', 'mahima']\n"
     ]
    }
   ],
   "source": [
    "#Reassigning the elements of the list using append method\n",
    "#append method adds the element at the end of the list\n",
    "students.append('mahima')\n",
    "print(students)"
   ]
  },
  {
   "cell_type": "code",
   "execution_count": 47,
   "metadata": {},
   "outputs": [
    {
     "name": "stdout",
     "output_type": "stream",
     "text": [
      "['thejasvi', 'shwetha', 'manjunath', 'shruthi', 'advaith', 'jayashree', 'anusha', 'mahima']\n"
     ]
    }
   ],
   "source": [
    "#Reassigning the elements of the list using insert method\n",
    "#insert method adds the element at the specified position without replacing any element of the list\n",
    "students.insert(3,'shruthi')\n",
    "print(students)"
   ]
  },
  {
   "cell_type": "code",
   "execution_count": 48,
   "metadata": {},
   "outputs": [
    {
     "name": "stdout",
     "output_type": "stream",
     "text": [
      "['thejasvi', 'shwetha', 'manjunath', 'shruthi', 'advaith', 'anusha', 'mahima']\n"
     ]
    }
   ],
   "source": [
    "#Deleting an element from the list using delete method\n",
    "'''\n",
    "General syntax\n",
    "del list_name[index_of_the_element_to_be_deleted]\n",
    "'''\n",
    "del students[5]\n",
    "print(students)"
   ]
  },
  {
   "cell_type": "code",
   "execution_count": 51,
   "metadata": {},
   "outputs": [
    {
     "name": "stdout",
     "output_type": "stream",
     "text": [
      "['thejasvi', 'shwetha', 'manjunath', 'shruthi']\n"
     ]
    }
   ],
   "source": [
    "#Deleting an element from the list using pop method\n",
    "'''\n",
    "pop method deletes the last element from the list and stores carbon cpy of the deleted data\n",
    "General syntax :\n",
    "list_name.pop()\n",
    "'''\n",
    "students.pop()\n",
    "print(students)"
   ]
  },
  {
   "cell_type": "code",
   "execution_count": 59,
   "metadata": {},
   "outputs": [
    {
     "name": "stdout",
     "output_type": "stream",
     "text": [
      "all the very best for your exam, Thejasvi !!!\n"
     ]
    }
   ],
   "source": [
    "#code enhancement\n",
    "print(f\"all the very best for your exam, {students[0].title()} !!!\")"
   ]
  },
  {
   "cell_type": "code",
   "execution_count": 60,
   "metadata": {},
   "outputs": [
    {
     "name": "stdout",
     "output_type": "stream",
     "text": [
      "all the very best for your exam, THEJASVI !!!\n"
     ]
    }
   ],
   "source": [
    "#code enhancement\n",
    "print(f\"all the very best for your exam, {students[0].upper()} !!!\")"
   ]
  },
  {
   "cell_type": "code",
   "execution_count": null,
   "metadata": {},
   "outputs": [],
   "source": []
  }
 ],
 "metadata": {
  "kernelspec": {
   "display_name": "Python 3",
   "language": "python",
   "name": "python3"
  },
  "language_info": {
   "codemirror_mode": {
    "name": "ipython",
    "version": 3
   },
   "file_extension": ".py",
   "mimetype": "text/x-python",
   "name": "python",
   "nbconvert_exporter": "python",
   "pygments_lexer": "ipython3",
   "version": "3.7.6"
  }
 },
 "nbformat": 4,
 "nbformat_minor": 4
}
