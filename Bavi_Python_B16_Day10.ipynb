{
 "cells": [
  {
   "cell_type": "code",
   "execution_count": 46,
   "metadata": {},
   "outputs": [
    {
     "name": "stdout",
     "output_type": "stream",
     "text": [
      "Day10 of Python Learning\n"
     ]
    }
   ],
   "source": [
    "print(\"Day10 of Python Learning\")"
   ]
  },
  {
   "cell_type": "code",
   "execution_count": null,
   "metadata": {},
   "outputs": [],
   "source": [
    "#Introduction to dictionary data type\n",
    "'''\n",
    "Dict data type :\n",
    "     It is considered as a mutable data type (which will allow to eidt/modify)\n",
    "     It is a collection of key-value pairs.\n",
    "\n",
    "How to define a dictionary data type -------------- {} ------ curely braces\n",
    "'''"
   ]
  },
  {
   "cell_type": "code",
   "execution_count": null,
   "metadata": {},
   "outputs": [],
   "source": [
    "username:'codetraining01'  ----> username(key) : ------> codetraining01(value)\n",
    "password:12345\n",
    "First_name: 'code'\n",
    "Last_name: 'training'\n",
    "DOB: '12-04-1985'"
   ]
  },
  {
   "cell_type": "code",
   "execution_count": 39,
   "metadata": {},
   "outputs": [
    {
     "name": "stdout",
     "output_type": "stream",
     "text": [
      "{'username': 'codetraining01', 'password': 12345, 'First_name': 'code', 'Last_name': 'training', 'DOB': '12-04-1985'}\n"
     ]
    }
   ],
   "source": [
    "useraccount = {'username' : 'codetraining01','password':12345,'First_name':'code','Last_name':'training','DOB':'12-04-1985'}\n",
    "print(useraccount)"
   ]
  },
  {
   "cell_type": "code",
   "execution_count": 40,
   "metadata": {},
   "outputs": [
    {
     "data": {
      "text/plain": [
       "dict"
      ]
     },
     "execution_count": 40,
     "metadata": {},
     "output_type": "execute_result"
    }
   ],
   "source": [
    "type(useraccount)"
   ]
  },
  {
   "cell_type": "code",
   "execution_count": 42,
   "metadata": {},
   "outputs": [
    {
     "name": "stdout",
     "output_type": "stream",
     "text": [
      "code\n"
     ]
    }
   ],
   "source": [
    "#how to access value from a list\n",
    "#req : to find the first name\n",
    "\n",
    "print(useraccount['First_name'])"
   ]
  },
  {
   "cell_type": "code",
   "execution_count": 43,
   "metadata": {},
   "outputs": [
    {
     "name": "stdout",
     "output_type": "stream",
     "text": [
      "12-04-1985\n"
     ]
    }
   ],
   "source": [
    "#req : to find the DOB\n",
    "print(useraccount['DOB'])"
   ]
  },
  {
   "cell_type": "code",
   "execution_count": 44,
   "metadata": {},
   "outputs": [
    {
     "name": "stdout",
     "output_type": "stream",
     "text": [
      "12345\n",
      "97654\n"
     ]
    }
   ],
   "source": [
    "#how to edit/modify the value from a dict\n",
    "print(useraccount['password'])\n",
    "useraccount['password'] = 97654\n",
    "print(useraccount['password'])"
   ]
  },
  {
   "cell_type": "code",
   "execution_count": 45,
   "metadata": {},
   "outputs": [
    {
     "name": "stdout",
     "output_type": "stream",
     "text": [
      "{'username': 'codetraining01', 'password': 97654, 'First_name': 'code', 'Last_name': 'training', 'DOB': '12-04-1985'}\n"
     ]
    }
   ],
   "source": [
    "print(useraccount)"
   ]
  },
  {
   "cell_type": "code",
   "execution_count": null,
   "metadata": {},
   "outputs": [],
   "source": []
  }
 ],
 "metadata": {
  "kernelspec": {
   "display_name": "Python 3",
   "language": "python",
   "name": "python3"
  },
  "language_info": {
   "codemirror_mode": {
    "name": "ipython",
    "version": 3
   },
   "file_extension": ".py",
   "mimetype": "text/x-python",
   "name": "python",
   "nbconvert_exporter": "python",
   "pygments_lexer": "ipython3",
   "version": "3.7.6"
  }
 },
 "nbformat": 4,
 "nbformat_minor": 4
}
