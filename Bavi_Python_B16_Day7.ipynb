{
 "cells": [
  {
   "cell_type": "code",
   "execution_count": 2,
   "metadata": {},
   "outputs": [
    {
     "name": "stdout",
     "output_type": "stream",
     "text": [
      "Day6 of Learning Python Programming\n"
     ]
    }
   ],
   "source": [
    "print(\"Day7 of Learning Python Programming\")"
   ]
  },
  {
   "cell_type": "code",
   "execution_count": null,
   "metadata": {},
   "outputs": [],
   "source": [
    "Introduction to if conditional statements"
   ]
  },
  {
   "cell_type": "code",
   "execution_count": null,
   "metadata": {},
   "outputs": [],
   "source": [
    "#Understanding of if statement\n",
    "'''\n",
    "General syntax :\n",
    "if condtional staement:\n",
    "    statement_to_be_executed_inside_if ------> Indentation is one tab\n",
    "else :\n",
    "    statement_to_be_executed_inside_else ------> Indentation is one tab\n",
    "'''\n",
    "Example : \n",
    "    if a == b :\n",
    "        print(a)\n",
    "    else :\n",
    "        print(b)"
   ]
  },
  {
   "cell_type": "code",
   "execution_count": 19,
   "metadata": {},
   "outputs": [
    {
     "name": "stdout",
     "output_type": "stream",
     "text": [
      "['bmw', 'audi', 'toyota', 'maruthi', 'nexon', 'benz']\n"
     ]
    }
   ],
   "source": [
    "cars = ['bmw','audi','toyota','maruthi','nexon','benz']\n",
    "print(cars)"
   ]
  },
  {
   "cell_type": "code",
   "execution_count": 20,
   "metadata": {},
   "outputs": [
    {
     "name": "stdout",
     "output_type": "stream",
     "text": [
      "BMW\n",
      "Audi\n",
      "Toyota\n",
      "Maruthi\n",
      "Nexon\n",
      "Benz\n"
     ]
    }
   ],
   "source": [
    "#Req 1 : To print bmw as BMW and rest of the cars in title case\n",
    "for car in cars:\n",
    "    if car == 'bmw':\n",
    "        print(car.upper())\n",
    "    else :\n",
    "        print(car.title())"
   ]
  },
  {
   "cell_type": "code",
   "execution_count": 24,
   "metadata": {},
   "outputs": [
    {
     "name": "stdout",
     "output_type": "stream",
     "text": [
      "Bmw\n",
      "Audi\n",
      "Benz\n",
      "BMW\n",
      "Bmw\n"
     ]
    }
   ],
   "source": [
    "#Try the above loop condition on the following list\n",
    "car_n = ['BMw','AudI','beNZ','bmw','bMw']\n",
    "\n",
    "for car in car_n:\n",
    "    if car == 'bmw':    \n",
    "        print(car.upper())\n",
    "    else :\n",
    "        print(car.title())\n"
   ]
  },
  {
   "cell_type": "code",
   "execution_count": 25,
   "metadata": {},
   "outputs": [
    {
     "name": "stdout",
     "output_type": "stream",
     "text": [
      "BMW\n",
      "Audi\n",
      "Benz\n",
      "BMW\n",
      "BMW\n"
     ]
    }
   ],
   "source": [
    "'''In the above example comparison is case sensitive so it has converted exact match only \n",
    "to make it to work to all combination one of the way is\n",
    "'''\n",
    "for car in car_n:\n",
    "    if car.lower() == 'bmw':\n",
    "        print(car.upper())\n",
    "    else :\n",
    "        print(car.title())"
   ]
  },
  {
   "cell_type": "code",
   "execution_count": 28,
   "metadata": {},
   "outputs": [
    {
     "name": "stdout",
     "output_type": "stream",
     "text": [
      "tell me something and I will repeat it for you\n",
      "I am Shwetha, learning Python coding\n",
      "I am Shwetha, learning Python coding\n"
     ]
    }
   ],
   "source": [
    "#User accepted input\n",
    "\n",
    "message = input('tell me something and I will repeat it for you\\n')\n",
    "print(message)"
   ]
  },
  {
   "cell_type": "code",
   "execution_count": 30,
   "metadata": {},
   "outputs": [
    {
     "name": "stdout",
     "output_type": "stream",
     "text": [
      "Please enter your height to check eligibility in cm :\t156\n"
     ]
    },
    {
     "ename": "TypeError",
     "evalue": "'>=' not supported between instances of 'str' and 'int'",
     "output_type": "error",
     "traceback": [
      "\u001b[1;31m---------------------------------------------------------------------------\u001b[0m",
      "\u001b[1;31mTypeError\u001b[0m                                 Traceback (most recent call last)",
      "\u001b[1;32m<ipython-input-30-23998d3f85ac>\u001b[0m in \u001b[0;36m<module>\u001b[1;34m\u001b[0m\n\u001b[0;32m      2\u001b[0m \u001b[1;33m\u001b[0m\u001b[0m\n\u001b[0;32m      3\u001b[0m \u001b[0mheight\u001b[0m \u001b[1;33m=\u001b[0m \u001b[0minput\u001b[0m\u001b[1;33m(\u001b[0m\u001b[1;34m'Please enter your height to check eligibility in cm :\\t'\u001b[0m\u001b[1;33m)\u001b[0m\u001b[1;33m\u001b[0m\u001b[1;33m\u001b[0m\u001b[0m\n\u001b[1;32m----> 4\u001b[1;33m \u001b[1;32mif\u001b[0m \u001b[0mheight\u001b[0m \u001b[1;33m>=\u001b[0m \u001b[1;36m160\u001b[0m \u001b[1;33m:\u001b[0m\u001b[1;33m\u001b[0m\u001b[1;33m\u001b[0m\u001b[0m\n\u001b[0m\u001b[0;32m      5\u001b[0m     \u001b[0mprint\u001b[0m\u001b[1;33m(\u001b[0m\u001b[1;34m'Congratualtions! You are eligible for next round'\u001b[0m\u001b[1;33m)\u001b[0m\u001b[1;33m\u001b[0m\u001b[1;33m\u001b[0m\u001b[0m\n\u001b[0;32m      6\u001b[0m \u001b[1;32melse\u001b[0m \u001b[1;33m:\u001b[0m\u001b[1;33m\u001b[0m\u001b[1;33m\u001b[0m\u001b[0m\n",
      "\u001b[1;31mTypeError\u001b[0m: '>=' not supported between instances of 'str' and 'int'"
     ]
    }
   ],
   "source": [
    "#input by default will be taking string as input ************\n",
    "\n",
    "height = input('Please enter your height to check eligibility in cm :\\t')\n",
    "if height >= 160 :\n",
    "    print('Congratualtions! You are eligible for next round')\n",
    "else :\n",
    "    print('Regret to inform you that you are not eligible')\n",
    "print(height)"
   ]
  },
  {
   "cell_type": "code",
   "execution_count": 33,
   "metadata": {},
   "outputs": [
    {
     "name": "stdout",
     "output_type": "stream",
     "text": [
      "Please enter your height to check eligibility in cm :\t167\n",
      "Congratualtions! You are eligible for next round\n"
     ]
    }
   ],
   "source": [
    "#In order to support the different data types comparison, we use typecasting of datatypes\n",
    "'''\n",
    "typecasting of datatypes :\n",
    "    Basically we have to convert the datatype from one data type to another data type\n",
    "'''\n",
    "\n",
    "#Above code can be written in the following way to overcom issue observed earlier\n",
    "\n",
    "height = input('Please enter your height to check eligibility in cm :\\t')\n",
    "#height = int(height) ---> T/ypecasting i.e. changing datatype of string variable to int\n",
    "if int(height) >= 160 :\n",
    "    print('Congratualtions! You are eligible for next round.')\n",
    "else:\n",
    "    print('Regret to inform you that you are not eligible.')"
   ]
  },
  {
   "cell_type": "code",
   "execution_count": 45,
   "metadata": {},
   "outputs": [
    {
     "name": "stdout",
     "output_type": "stream",
     "text": [
      "How old are you?\n",
      "24\n",
      "You are eligible to vote\n"
     ]
    }
   ],
   "source": [
    "#Building a simple voting application\n",
    "#Criteria : 1.Person should attend age minimum of 18years \n",
    "\n",
    "age = input('How old are you?\\n')\n",
    "if int(age) >= 18:\n",
    "    print('You are eligible to vote')\n",
    "else:\n",
    "    x = 18 - int(age)\n",
    "    print(f\"Try after {x} years\")"
   ]
  },
  {
   "cell_type": "code",
   "execution_count": null,
   "metadata": {},
   "outputs": [],
   "source": []
  }
 ],
 "metadata": {
  "kernelspec": {
   "display_name": "Python 3",
   "language": "python",
   "name": "python3"
  },
  "language_info": {
   "codemirror_mode": {
    "name": "ipython",
    "version": 3
   },
   "file_extension": ".py",
   "mimetype": "text/x-python",
   "name": "python",
   "nbconvert_exporter": "python",
   "pygments_lexer": "ipython3",
   "version": "3.7.6"
  }
 },
 "nbformat": 4,
 "nbformat_minor": 4
}
