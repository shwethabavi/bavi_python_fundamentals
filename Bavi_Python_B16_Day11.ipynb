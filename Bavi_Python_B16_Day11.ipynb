{
 "cells": [
  {
   "cell_type": "code",
   "execution_count": 48,
   "metadata": {},
   "outputs": [
    {
     "name": "stdout",
     "output_type": "stream",
     "text": [
      "Day11 of Python Learning\n"
     ]
    }
   ],
   "source": [
    "print(\"Day11 of Python Learning\")"
   ]
  },
  {
   "cell_type": "code",
   "execution_count": 50,
   "metadata": {},
   "outputs": [
    {
     "name": "stdout",
     "output_type": "stream",
     "text": [
      "{'username': 'Bavi1192', 'password': 987345, 'DOB': '01-01-1992', 'email': 'bshwetha@gmail.com', 'Name': 'Shwetha'}\n"
     ]
    }
   ],
   "source": [
    "useraccount = {'username':'Bavi1192','password':987345,'DOB':\"01-01-1992\",'email':'bshwetha@gmail.com','Name':'Shwetha'}\n",
    "\n",
    "print(useraccount)"
   ]
  },
  {
   "cell_type": "code",
   "execution_count": 53,
   "metadata": {},
   "outputs": [
    {
     "name": "stdout",
     "output_type": "stream",
     "text": [
      "{'username': 'Bavi1192', 'password': 111992, 'DOB': '01-01-1992', 'email': 'bshwetha@gmail.com', 'Name': 'Shwetha'}\n"
     ]
    }
   ],
   "source": [
    "#how to Update/Modify the value of dictionary\n",
    "\n",
    "useraccount['password'] = 111992\n",
    "\n",
    "print(useraccount)"
   ]
  },
  {
   "cell_type": "code",
   "execution_count": 54,
   "metadata": {},
   "outputs": [
    {
     "name": "stdout",
     "output_type": "stream",
     "text": [
      "{'username': 'Bavi1192', 'password': 111992, 'email': 'bshwetha@gmail.com', 'Name': 'Shwetha'}\n"
     ]
    }
   ],
   "source": [
    "#how to delete/remove key-value from a dict\n",
    "\n",
    "del useraccount['DOB']\n",
    "\n",
    "print(useraccount)"
   ]
  },
  {
   "cell_type": "code",
   "execution_count": 55,
   "metadata": {},
   "outputs": [
    {
     "name": "stdout",
     "output_type": "stream",
     "text": [
      "{'username': 'Bavi1192', 'password': 111992, 'email': 'bshwetha@gmail.com', 'Name': 'Shwetha', 'gender': 'Female'}\n"
     ]
    }
   ],
   "source": [
    "#How to add key-value pair to a dict\n",
    "\n",
    "useraccount['gender'] = 'Female'\n",
    "\n",
    "print(useraccount)"
   ]
  },
  {
   "cell_type": "code",
   "execution_count": 56,
   "metadata": {},
   "outputs": [
    {
     "ename": "TypeError",
     "evalue": "pop expected at least 1 arguments, got 0",
     "output_type": "error",
     "traceback": [
      "\u001b[1;31m---------------------------------------------------------------------------\u001b[0m",
      "\u001b[1;31mTypeError\u001b[0m                                 Traceback (most recent call last)",
      "\u001b[1;32m<ipython-input-56-467f2c9b0286>\u001b[0m in \u001b[0;36m<module>\u001b[1;34m\u001b[0m\n\u001b[0;32m      1\u001b[0m \u001b[1;31m#Deleting key-value pair form dict using pop method\u001b[0m\u001b[1;33m\u001b[0m\u001b[1;33m\u001b[0m\u001b[1;33m\u001b[0m\u001b[0m\n\u001b[0;32m      2\u001b[0m \u001b[1;33m\u001b[0m\u001b[0m\n\u001b[1;32m----> 3\u001b[1;33m \u001b[0museraccount\u001b[0m\u001b[1;33m.\u001b[0m\u001b[0mpop\u001b[0m\u001b[1;33m(\u001b[0m\u001b[1;33m)\u001b[0m\u001b[1;33m\u001b[0m\u001b[1;33m\u001b[0m\u001b[0m\n\u001b[0m",
      "\u001b[1;31mTypeError\u001b[0m: pop expected at least 1 arguments, got 0"
     ]
    }
   ],
   "source": [
    "#Deleting key-value pair form dict using pop method\n",
    "\n",
    "useraccount.pop()"
   ]
  },
  {
   "cell_type": "code",
   "execution_count": 59,
   "metadata": {},
   "outputs": [
    {
     "data": {
      "text/plain": [
       "'Female'"
      ]
     },
     "execution_count": 59,
     "metadata": {},
     "output_type": "execute_result"
    }
   ],
   "source": [
    "useraccount.pop('gender')"
   ]
  },
  {
   "cell_type": "code",
   "execution_count": 60,
   "metadata": {},
   "outputs": [
    {
     "name": "stdout",
     "output_type": "stream",
     "text": [
      "username ==> Bavi1192\n",
      "password ==> 111992\n",
      "email ==> bshwetha@gmail.com\n",
      "Name ==> Shwetha\n"
     ]
    }
   ],
   "source": [
    "#For loop inplementation in a dictionary\n",
    "\n",
    "#Req 1 : Printing vlaues using key as loop varaible\n",
    "\n",
    "for key in useraccount.keys():\n",
    "    print(f\"{key} ==> {useraccount[key]}\")\n",
    "\n",
    "    "
   ]
  },
  {
   "cell_type": "code",
   "execution_count": 61,
   "metadata": {},
   "outputs": [
    {
     "name": "stdout",
     "output_type": "stream",
     "text": [
      "username\n",
      "Bavi1192\n",
      "password\n",
      "111992\n",
      "email\n",
      "bshwetha@gmail.com\n",
      "Name\n",
      "Shwetha\n"
     ]
    }
   ],
   "source": [
    "#Req 2 : To splitout all the key-value pair outside the dictionary\n",
    "\n",
    "for key,value in useraccount.items():\n",
    "    print(f\"{key}\\n{value}\")\n"
   ]
  },
  {
   "cell_type": "code",
   "execution_count": 62,
   "metadata": {},
   "outputs": [
    {
     "name": "stdout",
     "output_type": "stream",
     "text": [
      "username\n",
      "password\n",
      "email\n",
      "Name\n"
     ]
    }
   ],
   "source": [
    "#Req 3 : Print only keys of dict\n",
    "\n",
    "for key in useraccount.keys():\n",
    "    print(key)\n"
   ]
  },
  {
   "cell_type": "code",
   "execution_count": 63,
   "metadata": {},
   "outputs": [
    {
     "name": "stdout",
     "output_type": "stream",
     "text": [
      "Bavi1192\n",
      "111992\n",
      "bshwetha@gmail.com\n",
      "Shwetha\n"
     ]
    }
   ],
   "source": [
    "#Print only values of dict\n",
    "\n",
    "for value in useraccount.values():\n",
    "    print(value)\n"
   ]
  },
  {
   "cell_type": "code",
   "execution_count": null,
   "metadata": {},
   "outputs": [],
   "source": []
  }
 ],
 "metadata": {
  "kernelspec": {
   "display_name": "Python 3",
   "language": "python",
   "name": "python3"
  },
  "language_info": {
   "codemirror_mode": {
    "name": "ipython",
    "version": 3
   },
   "file_extension": ".py",
   "mimetype": "text/x-python",
   "name": "python",
   "nbconvert_exporter": "python",
   "pygments_lexer": "ipython3",
   "version": "3.7.6"
  }
 },
 "nbformat": 4,
 "nbformat_minor": 4
}
