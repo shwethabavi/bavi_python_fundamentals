{
 "cells": [
  {
   "cell_type": "code",
   "execution_count": 1,
   "metadata": {},
   "outputs": [
    {
     "name": "stdout",
     "output_type": "stream",
     "text": [
      "Weekend_Assigment_B16\n"
     ]
    }
   ],
   "source": [
    "print(\"Weekend_Assigment_B16\")"
   ]
  },
  {
   "cell_type": "code",
   "execution_count": null,
   "metadata": {},
   "outputs": [],
   "source": [
    "Activity1:\n",
    "\n",
    "Resturant: \n",
    "\n",
    "1.Make a class called Restaurant.\n",
    "2.The __init__() method for Restaurant should store two attributes: a restaurant_name and a cuisine_type. \n",
    "3.Make a method called describe_restaurant() that prints these two pieces of information, \n",
    "4.and a method called open_restaurant() that prints a message indicating that the restaurant is open.\n",
    "5.Make an instance called restaurant from your class. \n",
    "Print the two attributes individually, and then call both methods."
   ]
  },
  {
   "cell_type": "code",
   "execution_count": 15,
   "metadata": {},
   "outputs": [],
   "source": [
    "class Restaurant():\n",
    "    \"\"\"Design a restaurant\"\"\"\n",
    "    def __init__(self,restaurant_name,cuisine_type):\n",
    "        self.restaurant_name = restaurant_name\n",
    "        self.cuisine_type = cuisine_type\n",
    "    \n",
    "    def describe_restaurant(self):\n",
    "        print(f\"Welcome to famous {self.restaurant_name},{self.cuisine_type} restaurant. \")\n",
    "    \n",
    "    def open_resturant(self):\n",
    "        print(f\"{self.restaurant_name} is now open. Bon Appetit!!!\")\n",
    "        "
   ]
  },
  {
   "cell_type": "code",
   "execution_count": 10,
   "metadata": {},
   "outputs": [],
   "source": [
    "restaurant = Restaurant(\"Alto Vino\",\"Italian\")"
   ]
  },
  {
   "cell_type": "code",
   "execution_count": 11,
   "metadata": {},
   "outputs": [
    {
     "data": {
      "text/plain": [
       "'Alto Vino'"
      ]
     },
     "execution_count": 11,
     "metadata": {},
     "output_type": "execute_result"
    }
   ],
   "source": [
    "restaurant.restaurant_name"
   ]
  },
  {
   "cell_type": "code",
   "execution_count": 12,
   "metadata": {},
   "outputs": [
    {
     "data": {
      "text/plain": [
       "'Italian'"
      ]
     },
     "execution_count": 12,
     "metadata": {},
     "output_type": "execute_result"
    }
   ],
   "source": [
    "restaurant.cuisine_type"
   ]
  },
  {
   "cell_type": "code",
   "execution_count": 13,
   "metadata": {},
   "outputs": [
    {
     "name": "stdout",
     "output_type": "stream",
     "text": [
      "Alto Vino is now open. Bon Appetit!!!\n"
     ]
    }
   ],
   "source": [
    "restaurant.open_resturant()"
   ]
  },
  {
   "cell_type": "code",
   "execution_count": 16,
   "metadata": {},
   "outputs": [
    {
     "name": "stdout",
     "output_type": "stream",
     "text": [
      "Welcome to famous  Italian, Alto Vino restaurant. \n"
     ]
    }
   ],
   "source": [
    "restaurant.describe_restaurant()"
   ]
  },
  {
   "cell_type": "code",
   "execution_count": null,
   "metadata": {},
   "outputs": [],
   "source": []
  },
  {
   "cell_type": "code",
   "execution_count": null,
   "metadata": {},
   "outputs": [],
   "source": []
  },
  {
   "cell_type": "code",
   "execution_count": null,
   "metadata": {},
   "outputs": [],
   "source": []
  },
  {
   "cell_type": "code",
   "execution_count": null,
   "metadata": {},
   "outputs": [],
   "source": [
    "Acitivity2:\n",
    "\n",
    "Ice Cream Stand: \n",
    "\n",
    "An ice cream stand is a specific kind of restaurant. \n",
    "Write a class called IceCreamStand that inherits from the Restaurant class you wrote above.\n",
    "Add an attribute called flavors that stores a list of ice cream flavors.\n",
    "Write a method that displays these flavors.\n",
    "Create an instance of IceCreamStand, and call this method. "
   ]
  },
  {
   "cell_type": "code",
   "execution_count": 29,
   "metadata": {},
   "outputs": [],
   "source": [
    "class IceCreamStand(Restaurant):\n",
    "    flavours = ['chocolate','butterscotch','mango','vanilla','Tutti frutti']\n",
    "    \n",
    "    def display_flavours(self):\n",
    "        print(\"Available Icecream flavours are :\")\n",
    "        for i in self.flavours:\n",
    "            print(f\"\\t{i.title()}\")\n",
    "            "
   ]
  },
  {
   "cell_type": "code",
   "execution_count": 30,
   "metadata": {},
   "outputs": [],
   "source": [
    "icecream = IceCreamStand('Corner House','Ice Cream')"
   ]
  },
  {
   "cell_type": "code",
   "execution_count": 31,
   "metadata": {},
   "outputs": [
    {
     "name": "stdout",
     "output_type": "stream",
     "text": [
      "Available Icecream flavours are :\n",
      "\tChocolate\n",
      "\tButterscotch\n",
      "\tMango\n",
      "\tVanilla\n",
      "\tTutti Frutti\n"
     ]
    }
   ],
   "source": [
    "icecream.display_flavours()"
   ]
  },
  {
   "cell_type": "code",
   "execution_count": null,
   "metadata": {},
   "outputs": [],
   "source": []
  }
 ],
 "metadata": {
  "kernelspec": {
   "display_name": "Python 3",
   "language": "python",
   "name": "python3"
  },
  "language_info": {
   "codemirror_mode": {
    "name": "ipython",
    "version": 3
   },
   "file_extension": ".py",
   "mimetype": "text/x-python",
   "name": "python",
   "nbconvert_exporter": "python",
   "pygments_lexer": "ipython3",
   "version": "3.7.6"
  }
 },
 "nbformat": 4,
 "nbformat_minor": 4
}
