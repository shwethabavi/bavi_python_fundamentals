{
 "cells": [
  {
   "cell_type": "code",
   "execution_count": 1,
   "metadata": {},
   "outputs": [
    {
     "name": "stdout",
     "output_type": "stream",
     "text": [
      "Weekend Assignment\n"
     ]
    }
   ],
   "source": [
    "print(\"Weekend Assignment\")"
   ]
  },
  {
   "cell_type": "code",
   "execution_count": null,
   "metadata": {},
   "outputs": [],
   "source": [
    "Scenraio 1 : \n",
    "    1.Write a function called make_shirt()\n",
    "    2.Function should accept size and text of a message that should be printed on the shirt\n",
    "    3.Function should print a sentence summarizing the size of the shirt and \n",
    "    the message to be printed on it."
   ]
  },
  {
   "cell_type": "code",
   "execution_count": null,
   "metadata": {},
   "outputs": [],
   "source": [
    "Scenario 2:\n",
    "    1. Modify the make_shirt() function so that shirts are large by default with a message that\n",
    "    reads \"L love Python\"\n",
    "    2.Make a large shirt and a medium shirt with default message.\n",
    "    3.a shirt of any size with a different message."
   ]
  },
  {
   "cell_type": "code",
   "execution_count": 34,
   "metadata": {},
   "outputs": [],
   "source": [
    "def make_shirt(size='Large',message='I love Python'):\n",
    "    \"\"\"Designing a shirt with customized text on it\"\"\"\n",
    "    msg = f\"Size of the shirt : {size} \\nText to be printed on it : \\n\\\"{message}\\\"\"\n",
    "    print(\"Please find details entered below :\\n\")\n",
    "    print(msg)"
   ]
  },
  {
   "cell_type": "code",
   "execution_count": null,
   "metadata": {},
   "outputs": [],
   "source": []
  },
  {
   "cell_type": "code",
   "execution_count": 27,
   "metadata": {},
   "outputs": [
    {
     "name": "stdout",
     "output_type": "stream",
     "text": [
      "Please find details entered below :\n",
      "\n",
      "Size of the shirt : Medium \n",
      "Text to be printed on it : \n",
      "\"Happy\"\n"
     ]
    }
   ],
   "source": [
    "#Calling function by positional arguments:\n",
    "\n",
    "my_shirt = make_shirt('Medium','Happy')"
   ]
  },
  {
   "cell_type": "code",
   "execution_count": 28,
   "metadata": {},
   "outputs": [
    {
     "name": "stdout",
     "output_type": "stream",
     "text": [
      "Please find details entered below :\n",
      "\n",
      "Size of the shirt : Large \n",
      "Text to be printed on it : \n",
      "\"I love coding\"\n"
     ]
    }
   ],
   "source": [
    "my_shirt = make_shirt('Large','I love coding')"
   ]
  },
  {
   "cell_type": "code",
   "execution_count": 29,
   "metadata": {},
   "outputs": [
    {
     "name": "stdout",
     "output_type": "stream",
     "text": [
      "Please find details entered below :\n",
      "\n",
      "Size of the shirt : Small \n",
      "Text to be printed on it : \n",
      "\"Live life\n",
      "to express\n",
      "  not to\n",
      " impress!\"\n"
     ]
    }
   ],
   "source": [
    "#Calling function by keyword arguments :\n",
    "\n",
    "shirt3 = make_shirt(size = 'Small',message = 'Live life\\nto express\\n  not to\\n impress!') "
   ]
  },
  {
   "cell_type": "code",
   "execution_count": 30,
   "metadata": {},
   "outputs": [
    {
     "name": "stdout",
     "output_type": "stream",
     "text": [
      "Please find details entered below :\n",
      "\n",
      "Size of the shirt : Large \n",
      "Text to be printed on it : \n",
      "\"I love Python\"\n"
     ]
    }
   ],
   "source": [
    "#Make a large shirt with default message\n",
    "\n",
    "large_shirt=make_shirt()"
   ]
  },
  {
   "cell_type": "code",
   "execution_count": 32,
   "metadata": {},
   "outputs": [
    {
     "name": "stdout",
     "output_type": "stream",
     "text": [
      "Please find details entered below :\n",
      "\n",
      "Size of the shirt : medium \n",
      "Text to be printed on it : \n",
      "\"I love Python\"\n"
     ]
    }
   ],
   "source": [
    "#Make a medium shirt with default message \n",
    "\n",
    "medium_shirt = make_shirt('medium')"
   ]
  },
  {
   "cell_type": "code",
   "execution_count": 33,
   "metadata": {},
   "outputs": [
    {
     "name": "stdout",
     "output_type": "stream",
     "text": [
      "Please find details entered below :\n",
      "\n",
      "Size of the shirt : extra large \n",
      "Text to be printed on it : \n",
      "\"Happy Learning\"\n"
     ]
    }
   ],
   "source": [
    "#Make shirt of any size witha  different message\n",
    "\n",
    "any_shirt = make_shirt('extra large','Happy Learning')"
   ]
  },
  {
   "cell_type": "code",
   "execution_count": null,
   "metadata": {},
   "outputs": [],
   "source": []
  },
  {
   "cell_type": "code",
   "execution_count": null,
   "metadata": {},
   "outputs": [],
   "source": [
    "Scenario 3 :\n",
    "    1.Write a function called describe_city() and its country.\n",
    "    2.The function should print a simple message, such as Reykjavik is in Iceland.\n",
    "    3.Give the parameter for the country a default value.\n",
    "    4.Call your function for different cities, at least one of which is not in the default country."
   ]
  },
  {
   "cell_type": "code",
   "execution_count": null,
   "metadata": {},
   "outputs": [],
   "source": []
  },
  {
   "cell_type": "code",
   "execution_count": 35,
   "metadata": {},
   "outputs": [],
   "source": [
    "def describe_city(city='',country='India'):\n",
    "    \"\"\"Descibe a city along with its country\"\"\"\n",
    "    msg = f\"{city.title()} is in {country.title()}\"\n",
    "    print(msg)\n"
   ]
  },
  {
   "cell_type": "code",
   "execution_count": 36,
   "metadata": {},
   "outputs": [
    {
     "name": "stdout",
     "output_type": "stream",
     "text": [
      "London is in England\n"
     ]
    }
   ],
   "source": [
    "london = describe_city('london','england')"
   ]
  },
  {
   "cell_type": "code",
   "execution_count": 37,
   "metadata": {},
   "outputs": [
    {
     "name": "stdout",
     "output_type": "stream",
     "text": [
      "Budapest is in Hungary\n"
     ]
    }
   ],
   "source": [
    "budapest = describe_city(city='budapest',country='hungary')"
   ]
  },
  {
   "cell_type": "code",
   "execution_count": 38,
   "metadata": {},
   "outputs": [
    {
     "name": "stdout",
     "output_type": "stream",
     "text": [
      "Bengaluru is in India\n"
     ]
    }
   ],
   "source": [
    "bengaluru = describe_city('Bengaluru')"
   ]
  },
  {
   "cell_type": "code",
   "execution_count": null,
   "metadata": {},
   "outputs": [],
   "source": []
  },
  {
   "cell_type": "code",
   "execution_count": null,
   "metadata": {},
   "outputs": [],
   "source": []
  },
  {
   "cell_type": "code",
   "execution_count": null,
   "metadata": {},
   "outputs": [],
   "source": []
  },
  {
   "cell_type": "code",
   "execution_count": null,
   "metadata": {},
   "outputs": [],
   "source": []
  }
 ],
 "metadata": {
  "kernelspec": {
   "display_name": "Python 3",
   "language": "python",
   "name": "python3"
  },
  "language_info": {
   "codemirror_mode": {
    "name": "ipython",
    "version": 3
   },
   "file_extension": ".py",
   "mimetype": "text/x-python",
   "name": "python",
   "nbconvert_exporter": "python",
   "pygments_lexer": "ipython3",
   "version": "3.7.6"
  }
 },
 "nbformat": 4,
 "nbformat_minor": 4
}
